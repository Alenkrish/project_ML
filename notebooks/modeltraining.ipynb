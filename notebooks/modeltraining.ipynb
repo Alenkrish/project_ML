{
 "cells": [
  {
   "cell_type": "code",
   "execution_count": 2,
   "id": "2abc572e",
   "metadata": {},
   "outputs": [
    {
     "name": "stdout",
     "output_type": "stream",
     "text": [
      "Accuracy: 0.8596491228070176\n",
      "              precision    recall  f1-score   support\n",
      "\n",
      "    Away Win       0.94      0.89      0.91        35\n",
      "        Draw       0.83      0.50      0.62        38\n",
      "    Home Win       0.84      0.99      0.91        98\n",
      "\n",
      "    accuracy                           0.86       171\n",
      "   macro avg       0.87      0.79      0.82       171\n",
      "weighted avg       0.86      0.86      0.85       171\n",
      "\n",
      "Model saved as model.pkl\n"
     ]
    }
   ],
   "source": [
    "import pandas as pd\n",
    "import numpy as np\n",
    "import matplotlib.pyplot as plt\n",
    "import seaborn as sns\n",
    "import joblib\n",
    "from sklearn.model_selection import train_test_split\n",
    "from sklearn.preprocessing import OneHotEncoder, StandardScaler\n",
    "from sklearn.compose import ColumnTransformer\n",
    "from sklearn.pipeline import Pipeline\n",
    "from sklearn.impute import SimpleImputer\n",
    "from sklearn.ensemble import RandomForestClassifier\n",
    "from sklearn.metrics import classification_report, accuracy_score\n",
    "\n",
    "df = pd.read_csv(r'C:\\Krishna\\project ML\\data\\Data.csv')\n",
    "\n",
    "def match_result(row):\n",
    "    if row['Home Team Goals'] > row['Away Team Goals']:\n",
    "        return 'Home Win'\n",
    "    elif row['Home Team Goals'] < row['Away Team Goals']:\n",
    "        return 'Away Win'\n",
    "    else:\n",
    "        return 'Draw'\n",
    "\n",
    "df['Result'] = df.apply(match_result, axis=1)\n",
    "\n",
    "drop_cols = ['Datetime', 'Win conditions', 'Referee', 'Assistant 1', 'Assistant 2']\n",
    "df = df.drop(columns=drop_cols)\n",
    "\n",
    "df = df.dropna(subset=['Home Team Goals', 'Away Team Goals'])\n",
    "\n",
    "X = df.drop(columns=['Result'])\n",
    "y = df['Result']\n",
    "\n",
    "num_cols = X.select_dtypes(include=['int64','float64']).columns\n",
    "cat_cols = X.select_dtypes(include=['object']).columns\n",
    "\n",
    "num_pipeline = Pipeline([\n",
    "    ('imputer', SimpleImputer(strategy='median')),\n",
    "    ('scaler', StandardScaler())\n",
    "])\n",
    "\n",
    "cat_pipeline = Pipeline([\n",
    "    ('imputer', SimpleImputer(strategy='most_frequent')),\n",
    "    ('ohe', OneHotEncoder(handle_unknown='ignore'))\n",
    "])\n",
    "\n",
    "preprocessor = ColumnTransformer([\n",
    "    ('num', num_pipeline, num_cols),\n",
    "    ('cat', cat_pipeline, cat_cols)\n",
    "])\n",
    "\n",
    "model = Pipeline([\n",
    "    ('pre', preprocessor),\n",
    "    ('clf', RandomForestClassifier(n_estimators=200, random_state=42))\n",
    "])\n",
    "\n",
    "X_train, X_test, y_train, y_test = train_test_split(X, y, test_size=0.2, random_state=42, stratify=y)\n",
    "\n",
    "model.fit(X_train, y_train)\n",
    "\n",
    "y_pred = model.predict(X_test)\n",
    "print(\"Accuracy:\", accuracy_score(y_test, y_pred))\n",
    "print(classification_report(y_test, y_pred))\n",
    "\n",
    "joblib.dump(model, 'model.pkl')\n",
    "print(\"Model saved as model.pkl\")\n"
   ]
  }
 ],
 "metadata": {
  "kernelspec": {
   "display_name": "venv",
   "language": "python",
   "name": "python3"
  },
  "language_info": {
   "codemirror_mode": {
    "name": "ipython",
    "version": 3
   },
   "file_extension": ".py",
   "mimetype": "text/x-python",
   "name": "python",
   "nbconvert_exporter": "python",
   "pygments_lexer": "ipython3",
   "version": "3.11.9"
  }
 },
 "nbformat": 4,
 "nbformat_minor": 5
}
